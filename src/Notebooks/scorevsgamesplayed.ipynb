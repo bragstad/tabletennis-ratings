{
 "cells": [
  {
   "cell_type": "code",
   "execution_count": 1,
   "id": "ee860644-3439-4fc8-9aa0-b363b1ce4a13",
   "metadata": {
    "tags": []
   },
   "outputs": [],
   "source": [
    "players_jan = players_jan = {\n",
    "    \"august\": {\"rating\": 1095.4106340360888, \"games_played\": 23},\n",
    "    \"eigil\": {\"rating\": 931.8845001298563, \"games_played\": 31},\n",
    "    \"zeek\": {\"rating\": 1000, \"games_played\": 0},\n",
    "    \"jonas\": {\"rating\": 920.5396191199075, \"games_played\": 21},\n",
    "    \"jørgen\": {\"rating\": 1000, \"games_played\": 0},\n",
    "    \"stein\": {\"rating\": 1052.165246714147, \"games_played\": 25},\n",
    "}"
   ]
  },
  {
   "cell_type": "code",
   "execution_count": 2,
   "id": "3145c9b2-dd7b-4eba-9477-80f4520f11f7",
   "metadata": {
    "tags": []
   },
   "outputs": [],
   "source": [
    "#Februar\n",
    "players_feb = {\n",
    "    'august': {'rating': 1213.561030293276, 'games_played': 34},\n",
    " 'eigil': {'rating': 973.0920933518213, 'games_played': 52},\n",
    " 'zeek': {'rating': 1000, 'games_played': 0},\n",
    " 'jonas': {'rating': 1126.5412999517987, 'games_played': 36},\n",
    "  # 'jørgen': {'rating': 684.2749965574122, 'games_played': 45},\n",
    " 'stein': {'rating': 1002.507684598545, 'games_played': 39}\n",
    "              }"
   ]
  },
  {
   "cell_type": "code",
   "execution_count": 3,
   "id": "695a3afc-85e1-4176-986d-09ace33fb8c6",
   "metadata": {
    "tags": []
   },
   "outputs": [],
   "source": [
    "#Mars\n",
    "\n",
    "players_mar = {\n",
    "    'august': {'rating': 1001.4737963517158, 'games_played': 33},\n",
    " 'eigil': {'rating': 1140.88031824775, 'games_played': 46},\n",
    " 'zeek': {'rating': 1000, 'games_played': 0},\n",
    " 'jonas': {'rating': 961.584464750286, 'games_played': 27},\n",
    "  # 'jørgen': {'rating': 761.5186912888272, 'games_played': 46},\n",
    " 'stein': {'rating': 1134.2583921393043, 'games_played': 34}\n",
    "}"
   ]
  },
  {
   "cell_type": "code",
   "execution_count": 4,
   "id": "260f5bc4-596f-47c9-bef7-700723c0e1fd",
   "metadata": {
    "tags": []
   },
   "outputs": [],
   "source": [
    "#April\n",
    "\n",
    "players_apr ={\n",
    "    'august': {'rating': 953.002687966837, 'games_played': 49},\n",
    " 'eigil': {'rating': 999.0474914674394, 'games_played': 51},\n",
    " 'zeek': {'rating': 1000, 'games_played': 0},\n",
    " 'jonas': {'rating': 1075.9548814978214, 'games_played': 38},\n",
    "  # 'jørgen': {'rating': 750.8449537603321, 'games_played': 45},\n",
    " 'stein': {'rating': 1221.1499853075684, 'games_played': 45}\n",
    "             }"
   ]
  },
  {
   "cell_type": "code",
   "execution_count": 5,
   "id": "e5155c03-8946-4c3e-9190-d31d13a2134f",
   "metadata": {
    "tags": []
   },
   "outputs": [],
   "source": [
    "#Mai\n",
    "\n",
    "players_mai= {\n",
    "    'august': {'rating': 1103.1890574699396, 'games_played': 45},\n",
    " 'eigil': {'rating': 1023.5062087088506, 'games_played': 52},\n",
    " 'zeek': {'rating': 1073.839071141296, 'games_played': 42},\n",
    " 'jonas': {'rating': 950.1789347396199, 'games_played': 31},\n",
    "  # 'jørgen': {'rating': 688.008589624605, 'games_played': 56},\n",
    " 'stein': {'rating': 1161.2781383156885, 'games_played': 28}\n",
    "}"
   ]
  },
  {
   "cell_type": "code",
   "execution_count": 6,
   "id": "5113d341-b00e-46f7-8419-6fa04f0f456a",
   "metadata": {
    "tags": []
   },
   "outputs": [],
   "source": [
    "#Juni\n",
    "players_jun= {\n",
    "    'august': {'rating': 990.8658755772968, 'games_played': 53},\n",
    " 'eigil': {'rating': 983.5004332392422, 'games_played': 74},\n",
    " 'joel': {'rating': 1195.9330943566874, 'games_played': 72},\n",
    " 'jonas': {'rating': 1016.4042442192222, 'games_played': 58},\n",
    "  # 'jørgen': {'rating': 625.1370802809397, 'games_played': 68},\n",
    " 'kjetil': {'rating': 1188.1592723266112, 'games_played': 61}\n",
    " }"
   ]
  },
  {
   "cell_type": "code",
   "execution_count": 7,
   "id": "e655dd7d-7da5-4d44-8307-624903b354d0",
   "metadata": {
    "tags": []
   },
   "outputs": [],
   "source": [
    "#august\n",
    "\n",
    "players_jul= {\n",
    "    'august': {'rating': 996.3286568643837, 'games_played': 28},\n",
    " 'eigil': {'rating': 949.4058429747897, 'games_played': 30},\n",
    " 'joel': {'rating': 1204.0400003915227, 'games_played': 28},\n",
    " 'jonas': {'rating': 1007.8005721739366, 'games_played': 13},\n",
    "  # 'jørgen': {'rating': 816.8980083059137, 'games_played': 26},\n",
    " 'kjetil': {'rating': 1059.527030848885, 'games_played': 27}\n",
    " }"
   ]
  },
  {
   "cell_type": "code",
   "execution_count": 8,
   "id": "d7b4ebd2-5a87-4d5f-9606-eae036cf3e69",
   "metadata": {
    "tags": []
   },
   "outputs": [],
   "source": [
    "#September\n",
    "\n",
    "players_sep= {\n",
    "    'august': {'rating': 999.2667305436089, 'games_played': 45},\n",
    " 'eigil': {'rating': 1038.0656337014968, 'games_played': 53},\n",
    " 'joel': {'rating': 1137.965536255621, 'games_played': 57},\n",
    " 'jonas': {'rating': 1015.9314279825867, 'games_played': 45},\n",
    "   # 'jørgen': {'rating': 724.7029699276967, 'games_played': 47},\n",
    " 'kjetil': {'rating': 1073.0677015889903, 'games_played': 50}\n",
    "             }"
   ]
  },
  {
   "cell_type": "code",
   "execution_count": 9,
   "id": "aa4cb16b-c4ed-4bd0-b4c3-10d44d76e3a9",
   "metadata": {
    "tags": []
   },
   "outputs": [],
   "source": [
    "#Oktober\n",
    "\n",
    "players_okt= {\n",
    " 'august': {'rating': 1003.5608180990255, 'games_played': 57},\n",
    " 'eigil': {'rating': 983.2927479863279, 'games_played': 84},\n",
    " 'joel': {'rating': 1303.056123427533, 'games_played': 84},\n",
    " 'jonas': {'rating': 963.2522915931044, 'games_played': 63},\n",
    " # 'jørgen': {'rating': 713.8080615926525, 'games_played': 60},\n",
    " 'kjetil': {'rating': 1033.0299573013544, 'games_played': 66}\n",
    "    }"
   ]
  },
  {
   "cell_type": "code",
   "execution_count": 10,
   "id": "a4608ec9-e806-41ad-acec-7d870fef358b",
   "metadata": {
    "tags": []
   },
   "outputs": [
    {
     "name": "stdout",
     "output_type": "stream",
     "text": [
      "Correlation between games played and rating: 0.26\n",
      "Covariance between games played and rating: 486.18\n"
     ]
    }
   ],
   "source": [
    "import pandas as pd\n",
    "\n",
    "# Combine all data into a list of dictionaries\n",
    "all_players_data = []\n",
    "for period, players in [(\"jan\", players_jan), (\"feb\", players_feb), (\"mar\", players_mar), (\"apr\", players_apr), (\"mai\", players_mai), (\"jun\", players_jun), (\"jul\", players_jul), \n",
    "                        (\"sep\", players_sep),(\"okt\", players_okt)]:\n",
    "    for player, stats in players.items():\n",
    "        all_players_data.append({\n",
    "            \"period\": period,\n",
    "            \"player\": player,\n",
    "            \"games_played\": stats[\"games_played\"],\n",
    "            \"rating\": stats[\"rating\"]\n",
    "        })\n",
    "\n",
    "# Create DataFrame\n",
    "df = pd.DataFrame(all_players_data)\n",
    "\n",
    "# Check if there’s a correlation between games played and rating\n",
    "correlation = df[\"games_played\"].corr(df[\"rating\"])\n",
    "covariance = df[\"games_played\"].cov(df[\"rating\"])\n",
    "print(f\"Correlation between games played and rating: {correlation:.2f}\")\n",
    "print(f\"Covariance between games played and rating: {covariance:.2f}\")"
   ]
  },
  {
   "cell_type": "code",
   "execution_count": 11,
   "id": "355329f7-6447-46c2-8c5c-38aecbd1b7af",
   "metadata": {
    "tags": []
   },
   "outputs": [
    {
     "ename": "SyntaxError",
     "evalue": "invalid syntax (2671774100.py, line 1)",
     "output_type": "error",
     "traceback": [
      "\u001b[0;36m  Cell \u001b[0;32mIn[11], line 1\u001b[0;36m\u001b[0m\n\u001b[0;31m    Correlation between games played and rating: 0.04\u001b[0m\n\u001b[0m                ^\u001b[0m\n\u001b[0;31mSyntaxError\u001b[0m\u001b[0;31m:\u001b[0m invalid syntax\n"
     ]
    }
   ],
   "source": [
    "Correlation between games played and rating: 0.04\n",
    "Covariance between games played and rating: 34.54"
   ]
  }
 ],
 "metadata": {
  "kernelspec": {
   "display_name": "Python 3 (ipykernel)",
   "language": "python",
   "name": "python3"
  },
  "language_info": {
   "codemirror_mode": {
    "name": "ipython",
    "version": 3
   },
   "file_extension": ".py",
   "mimetype": "text/x-python",
   "name": "python",
   "nbconvert_exporter": "python",
   "pygments_lexer": "ipython3",
   "version": "3.11.9"
  }
 },
 "nbformat": 4,
 "nbformat_minor": 5
}
